{
 "cells": [
  {
   "cell_type": "code",
   "execution_count": 18,
   "metadata": {},
   "outputs": [],
   "source": [
    "from music21 import converter, instrument, note, chord, stream\n",
    "\n",
    "def midi_to_musicxml(midi_file, output_file):\n",
    "    # Load MIDI file using music21's built-in converter\n",
    "    midi_stream = converter.parse(midi_file)\n",
    "    \n",
    "    # Iterate over parts in the stream and process each part\n",
    "    for part in midi_stream.parts:\n",
    "        # Ensure the part has a specific instrument assigned\n",
    "        for elem in part.flat.getElementsByClass(instrument.Instrument):\n",
    "            part.remove(elem)\n",
    "        part.insert(0, instrument.Piano())\n",
    "    \n",
    "    # Write the processed stream to a MusicXML file\n",
    "    midi_stream.write('musicxml', fp=output_file)\n",
    "\n",
    "# Example usage\n",
    "midi_file = 'temp/NewJeans-OMG.mid'\n",
    "output_file = 'output.musicxml'\n",
    "midi_to_musicxml(midi_file, output_file)\n"
   ]
  }
 ],
 "metadata": {
  "kernelspec": {
   "display_name": "Python 3",
   "language": "python",
   "name": "python3"
  },
  "language_info": {
   "codemirror_mode": {
    "name": "ipython",
    "version": 3
   },
   "file_extension": ".py",
   "mimetype": "text/x-python",
   "name": "python",
   "nbconvert_exporter": "python",
   "pygments_lexer": "ipython3",
   "version": "3.10.13"
  }
 },
 "nbformat": 4,
 "nbformat_minor": 2
}
