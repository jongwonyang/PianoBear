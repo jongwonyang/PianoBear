{
 "cells": [
  {
   "cell_type": "code",
   "execution_count": 2,
   "metadata": {},
   "outputs": [],
   "source": [
    "import warnings\n",
    "warnings.filterwarnings('ignore')"
   ]
  },
  {
   "cell_type": "markdown",
   "metadata": {},
   "source": [
    "# Onset 모델 평가"
   ]
  },
  {
   "cell_type": "code",
   "execution_count": null,
   "metadata": {},
   "outputs": [],
   "source": [
    "import glob\n",
    "import numpy as np\n",
    "import tensorflow as tf\n",
    "from tensorflow.keras.models import load_model\n",
    "\n",
    "def data_generator(x_paths, onset_paths):\n",
    "    for x_path, onset_path in zip(x_paths, onset_paths):\n",
    "        X = np.load(x_path)\n",
    "        ONSET = np.load(onset_path)\n",
    "\n",
    "        X = X / np.max(X)  # 정규화\n",
    "\n",
    "        for x, onset in zip(X, ONSET):\n",
    "            yield (x, onset)  # 한 세그먼트씩 반환\n",
    "\n",
    "def evaluate(test_x, test_onset):\n",
    "    test_x_paths, test_onset_paths = [], []\n",
    "\n",
    "    for x_path, onset_path in zip(glob.glob(test_x), glob.glob(test_onset)):\n",
    "        test_x_paths.append(x_path)\n",
    "        test_onset_paths.append(onset_path)\n",
    "\n",
    "    output_signature = (tf.TensorSpec(shape=(100, 264), dtype=tf.float32), tf.TensorSpec(shape=(100, 88), dtype=tf.int8))\n",
    "\n",
    "    batch_size = 10\n",
    "\n",
    "    test_set = tf.data.Dataset.from_generator(lambda: data_generator(test_x_paths, test_onset_paths), output_signature=output_signature)\n",
    "    test_set = test_set.batch(batch_size, drop_remainder=True).prefetch(tf.data.experimental.AUTOTUNE)\n",
    "\n",
    "    model = load_model('models/onset_detector_v1.h5')\n",
    "\n",
    "    steps_per_epoch = sum([len(np.load(file)) for file in test_x_paths]) // batch_size\n",
    "\n",
    "    loss, accuracy = model.evaluate(test_set, steps=steps_per_epoch, verbose=2)\n",
    "    print(f'Test Loss: {loss}')\n",
    "    print(f'Test Accuracy: {accuracy}')\n",
    "\n",
    "if __name__ == '__main__':\n",
    "    evaluate('data/preprocessed/testX/*.npy', 'data/preprocessed/testONSET/*.npy')"
   ]
  },
  {
   "cell_type": "markdown",
   "metadata": {},
   "source": [
    "# Offset 모델 평가"
   ]
  },
  {
   "cell_type": "code",
   "execution_count": null,
   "metadata": {},
   "outputs": [],
   "source": [
    "import glob\n",
    "import numpy as np\n",
    "import tensorflow as tf\n",
    "from tensorflow.keras.models import load_model\n",
    "\n",
    "def data_generator(x_paths, offset_paths):\n",
    "    for x_path, onset_path in zip(x_paths, offset_paths):\n",
    "        X = np.load(x_path)\n",
    "        OFFSET = np.load(onset_path)\n",
    "\n",
    "        X = X / np.max(X)  # 정규화\n",
    "\n",
    "        for x, onset in zip(X, OFFSET):\n",
    "            yield (x, onset)  # 한 세그먼트씩 반환\n",
    "\n",
    "def evaluate(test_x, test_offset):\n",
    "    test_x_paths, test_offset_paths = [], []\n",
    "\n",
    "    for x_path, offset_path in zip(glob.glob(test_x), glob.glob(test_offset)):\n",
    "        test_x_paths.append(x_path)\n",
    "        test_offset_paths.append(offset_path)\n",
    "\n",
    "    output_signature = (tf.TensorSpec(shape=(100, 264), dtype=tf.float32), tf.TensorSpec(shape=(100, 88), dtype=tf.int8))\n",
    "\n",
    "    batch_size = 10\n",
    "\n",
    "    test_set = tf.data.Dataset.from_generator(lambda: data_generator(test_x_paths, test_offset_paths), output_signature=output_signature)\n",
    "    test_set = test_set.batch(batch_size, drop_remainder=True).prefetch(tf.data.experimental.AUTOTUNE)\n",
    "\n",
    "    model = load_model('models/offset_detector_v1.h5')\n",
    "\n",
    "    steps_per_epoch = sum([len(np.load(file)) for file in test_x_paths]) // batch_size\n",
    "\n",
    "    loss, accuracy = model.evaluate(test_set, steps=steps_per_epoch, verbose=2)\n",
    "    print(f'Test Loss: {loss}')\n",
    "    print(f'Test Accuracy: {accuracy}')\n",
    "\n",
    "if __name__ == '__main__':\n",
    "    evaluate('data/preprocessed/testX/*.npy', 'data/preprocessed/testOFFSET/*.npy')"
   ]
  }
 ],
 "metadata": {
  "kernelspec": {
   "display_name": "venv",
   "language": "python",
   "name": "python3"
  },
  "language_info": {
   "codemirror_mode": {
    "name": "ipython",
    "version": 3
   },
   "file_extension": ".py",
   "mimetype": "text/x-python",
   "name": "python",
   "nbconvert_exporter": "python",
   "pygments_lexer": "ipython3",
   "version": "3.10.12"
  }
 },
 "nbformat": 4,
 "nbformat_minor": 2
}
