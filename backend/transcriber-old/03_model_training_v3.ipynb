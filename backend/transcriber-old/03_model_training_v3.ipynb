{
 "cells": [
  {
   "cell_type": "code",
   "execution_count": 1,
   "metadata": {},
   "outputs": [],
   "source": [
    "import warnings\n",
    "\n",
    "warnings.filterwarnings('ignore')"
   ]
  },
  {
   "cell_type": "code",
   "execution_count": 2,
   "metadata": {},
   "outputs": [
    {
     "name": "stderr",
     "output_type": "stream",
     "text": [
      "2024-07-21 02:49:19.512995: I tensorflow/core/util/port.cc:111] oneDNN custom operations are on. You may see slightly different numerical results due to floating-point round-off errors from different computation orders. To turn them off, set the environment variable `TF_ENABLE_ONEDNN_OPTS=0`.\n",
      "2024-07-21 02:49:19.716906: E tensorflow/compiler/xla/stream_executor/cuda/cuda_dnn.cc:9342] Unable to register cuDNN factory: Attempting to register factory for plugin cuDNN when one has already been registered\n",
      "2024-07-21 02:49:19.716928: E tensorflow/compiler/xla/stream_executor/cuda/cuda_fft.cc:609] Unable to register cuFFT factory: Attempting to register factory for plugin cuFFT when one has already been registered\n",
      "2024-07-21 02:49:19.718012: E tensorflow/compiler/xla/stream_executor/cuda/cuda_blas.cc:1518] Unable to register cuBLAS factory: Attempting to register factory for plugin cuBLAS when one has already been registered\n",
      "2024-07-21 02:49:19.804790: I tensorflow/core/platform/cpu_feature_guard.cc:182] This TensorFlow binary is optimized to use available CPU instructions in performance-critical operations.\n",
      "To enable the following instructions: AVX2 AVX_VNNI FMA, in other operations, rebuild TensorFlow with the appropriate compiler flags.\n"
     ]
    },
    {
     "name": "stdout",
     "output_type": "stream",
     "text": [
      "2.14.1\n",
      "[PhysicalDevice(name='/physical_device:GPU:0', device_type='GPU')]\n"
     ]
    },
    {
     "name": "stderr",
     "output_type": "stream",
     "text": [
      "2024-07-21 02:49:22.005525: I tensorflow/compiler/xla/stream_executor/cuda/cuda_gpu_executor.cc:880] could not open file to read NUMA node: /sys/bus/pci/devices/0000:01:00.0/numa_node\n",
      "Your kernel may have been built without NUMA support.\n",
      "2024-07-21 02:49:22.022717: I tensorflow/compiler/xla/stream_executor/cuda/cuda_gpu_executor.cc:880] could not open file to read NUMA node: /sys/bus/pci/devices/0000:01:00.0/numa_node\n",
      "Your kernel may have been built without NUMA support.\n",
      "2024-07-21 02:49:22.022750: I tensorflow/compiler/xla/stream_executor/cuda/cuda_gpu_executor.cc:880] could not open file to read NUMA node: /sys/bus/pci/devices/0000:01:00.0/numa_node\n",
      "Your kernel may have been built without NUMA support.\n"
     ]
    }
   ],
   "source": [
    "import tensorflow as tf\n",
    "\n",
    "print(tf.__version__)\n",
    "print(tf.config.list_physical_devices('GPU'))"
   ]
  },
  {
   "cell_type": "markdown",
   "metadata": {},
   "source": [
    "# Onset 모델 학습"
   ]
  },
  {
   "cell_type": "code",
   "execution_count": 1,
   "metadata": {},
   "outputs": [
    {
     "name": "stderr",
     "output_type": "stream",
     "text": [
      "2024-07-21 20:24:57.531831: I tensorflow/core/util/port.cc:111] oneDNN custom operations are on. You may see slightly different numerical results due to floating-point round-off errors from different computation orders. To turn them off, set the environment variable `TF_ENABLE_ONEDNN_OPTS=0`.\n",
      "2024-07-21 20:24:57.757153: E tensorflow/compiler/xla/stream_executor/cuda/cuda_dnn.cc:9342] Unable to register cuDNN factory: Attempting to register factory for plugin cuDNN when one has already been registered\n",
      "2024-07-21 20:24:57.757184: E tensorflow/compiler/xla/stream_executor/cuda/cuda_fft.cc:609] Unable to register cuFFT factory: Attempting to register factory for plugin cuFFT when one has already been registered\n",
      "2024-07-21 20:24:57.758348: E tensorflow/compiler/xla/stream_executor/cuda/cuda_blas.cc:1518] Unable to register cuBLAS factory: Attempting to register factory for plugin cuBLAS when one has already been registered\n",
      "2024-07-21 20:24:57.859760: I tensorflow/core/platform/cpu_feature_guard.cc:182] This TensorFlow binary is optimized to use available CPU instructions in performance-critical operations.\n",
      "To enable the following instructions: AVX2 AVX_VNNI FMA, in other operations, rebuild TensorFlow with the appropriate compiler flags.\n"
     ]
    },
    {
     "name": "stdout",
     "output_type": "stream",
     "text": [
      "INFO:tensorflow:Mixed precision compatibility check (mixed_float16): OK\n",
      "Your GPU will likely run quickly with dtype policy mixed_float16 as it has compute capability of at least 7.0. Your GPU: NVIDIA GeForce GTX 1660 SUPER, compute capability 7.5\n"
     ]
    },
    {
     "name": "stderr",
     "output_type": "stream",
     "text": [
      "2024-07-21 20:25:00.340071: I tensorflow/compiler/xla/stream_executor/cuda/cuda_gpu_executor.cc:880] could not open file to read NUMA node: /sys/bus/pci/devices/0000:01:00.0/numa_node\n",
      "Your kernel may have been built without NUMA support.\n",
      "2024-07-21 20:25:00.359435: I tensorflow/compiler/xla/stream_executor/cuda/cuda_gpu_executor.cc:880] could not open file to read NUMA node: /sys/bus/pci/devices/0000:01:00.0/numa_node\n",
      "Your kernel may have been built without NUMA support.\n",
      "2024-07-21 20:25:00.359466: I tensorflow/compiler/xla/stream_executor/cuda/cuda_gpu_executor.cc:880] could not open file to read NUMA node: /sys/bus/pci/devices/0000:01:00.0/numa_node\n",
      "Your kernel may have been built without NUMA support.\n",
      "2024-07-21 20:25:00.359679: I tensorflow/compiler/xla/stream_executor/cuda/cuda_gpu_executor.cc:880] could not open file to read NUMA node: /sys/bus/pci/devices/0000:01:00.0/numa_node\n",
      "Your kernel may have been built without NUMA support.\n",
      "2024-07-21 20:25:00.371784: I tensorflow/compiler/xla/stream_executor/cuda/cuda_gpu_executor.cc:880] could not open file to read NUMA node: /sys/bus/pci/devices/0000:01:00.0/numa_node\n",
      "Your kernel may have been built without NUMA support.\n",
      "2024-07-21 20:25:00.371837: I tensorflow/compiler/xla/stream_executor/cuda/cuda_gpu_executor.cc:880] could not open file to read NUMA node: /sys/bus/pci/devices/0000:01:00.0/numa_node\n",
      "Your kernel may have been built without NUMA support.\n",
      "2024-07-21 20:25:00.371847: I tensorflow/compiler/xla/stream_executor/cuda/cuda_gpu_executor.cc:880] could not open file to read NUMA node: /sys/bus/pci/devices/0000:01:00.0/numa_node\n",
      "Your kernel may have been built without NUMA support.\n",
      "2024-07-21 20:25:01.268564: I tensorflow/compiler/xla/stream_executor/cuda/cuda_gpu_executor.cc:880] could not open file to read NUMA node: /sys/bus/pci/devices/0000:01:00.0/numa_node\n",
      "Your kernel may have been built without NUMA support.\n",
      "2024-07-21 20:25:01.268663: I tensorflow/compiler/xla/stream_executor/cuda/cuda_gpu_executor.cc:880] could not open file to read NUMA node: /sys/bus/pci/devices/0000:01:00.0/numa_node\n",
      "Your kernel may have been built without NUMA support.\n",
      "2024-07-21 20:25:01.268674: I tensorflow/core/common_runtime/gpu/gpu_device.cc:1977] Could not identify NUMA node of platform GPU id 0, defaulting to 0.  Your kernel may not have been built with NUMA support.\n",
      "2024-07-21 20:25:01.268705: I tensorflow/compiler/xla/stream_executor/cuda/cuda_gpu_executor.cc:880] could not open file to read NUMA node: /sys/bus/pci/devices/0000:01:00.0/numa_node\n",
      "Your kernel may have been built without NUMA support.\n",
      "2024-07-21 20:25:01.268724: I tensorflow/core/common_runtime/gpu/gpu_device.cc:1886] Created device /job:localhost/replica:0/task:0/device:GPU:0 with 3914 MB memory:  -> device: 0, name: NVIDIA GeForce GTX 1660 SUPER, pci bus id: 0000:01:00.0, compute capability: 7.5\n",
      "2024-07-21 20:25:01.677701: I tensorflow/tsl/platform/default/subprocess.cc:304] Start cannot spawn child process: No such file or directory\n"
     ]
    },
    {
     "name": "stdout",
     "output_type": "stream",
     "text": [
      "Epoch 1/2\n"
     ]
    },
    {
     "name": "stderr",
     "output_type": "stream",
     "text": [
      "2024-07-21 20:25:07.346776: I tensorflow/compiler/xla/stream_executor/cuda/cuda_dnn.cc:442] Loaded cuDNN version 8700\n",
      "2024-07-21 20:25:08.860237: I tensorflow/compiler/xla/service/service.cc:168] XLA service 0x7f03c0023710 initialized for platform CUDA (this does not guarantee that XLA will be used). Devices:\n",
      "2024-07-21 20:25:08.860274: I tensorflow/compiler/xla/service/service.cc:176]   StreamExecutor device (0): NVIDIA GeForce GTX 1660 SUPER, Compute Capability 7.5\n",
      "2024-07-21 20:25:08.877344: I tensorflow/compiler/mlir/tensorflow/utils/dump_mlir_util.cc:269] disabling MLIR crash reproducer, set env var `MLIR_CRASH_REPRODUCER_DIRECTORY` to enable.\n",
      "2024-07-21 20:25:08.984698: I ./tensorflow/compiler/jit/device_compiler.h:186] Compiled cluster using XLA!  This line is logged at most once for the lifetime of the process.\n"
     ]
    },
    {
     "name": "stdout",
     "output_type": "stream",
     "text": [
      "   3864/Unknown - 203s 51ms/step - loss: 0.0283 - accuracy: 0.0189\n",
      "Epoch 1: val_loss improved from inf to 0.02076, saving model to models/onset_detector_v3.h5\n",
      "3864/3864 [==============================] - 209s 52ms/step - loss: 0.0283 - accuracy: 0.0189 - val_loss: 0.0208 - val_accuracy: 0.0299\n",
      "Epoch 2/2\n"
     ]
    },
    {
     "name": "stderr",
     "output_type": "stream",
     "text": [
      "/home/jongwon/workspace/S11P12B103/backend/transcriber/venv/lib/python3.10/site-packages/keras/src/engine/training.py:3079: UserWarning: You are saving your model as an HDF5 file via `model.save()`. This file format is considered legacy. We recommend using instead the native Keras format, e.g. `model.save('my_model.keras')`.\n",
      "  saving_api.save_model(\n"
     ]
    },
    {
     "name": "stdout",
     "output_type": "stream",
     "text": [
      "3864/3864 [==============================] - ETA: 0s - loss: 0.0193 - accuracy: 0.0587\n",
      "Epoch 2: val_loss improved from 0.02076 to 0.01608, saving model to models/onset_detector_v3.h5\n",
      "3864/3864 [==============================] - 205s 53ms/step - loss: 0.0193 - accuracy: 0.0587 - val_loss: 0.0161 - val_accuracy: 0.0746\n"
     ]
    }
   ],
   "source": [
    "import glob\n",
    "import numpy as np\n",
    "import tensorflow as tf\n",
    "from tensorflow.keras import Model, Input\n",
    "from tensorflow.keras.layers import Dense, Bidirectional, LSTM, TimeDistributed, Concatenate\n",
    "from tensorflow.keras.callbacks import ModelCheckpoint, EarlyStopping\n",
    "from tensorflow.keras.optimizers import Adam\n",
    "from tensorflow.keras.mixed_precision import Policy, set_global_policy\n",
    "\n",
    "# 혼합 정밀도 정책 설정\n",
    "policy = Policy('mixed_float16')\n",
    "set_global_policy(policy)\n",
    "\n",
    "def data_generator(cqt_paths, stft_paths, mel_paths, onset_paths, model):\n",
    "    for cqt_path, stft_path, mel_path, onset_path in zip(cqt_paths, stft_paths, mel_paths, onset_paths):\n",
    "        CQT = np.load(cqt_path)\n",
    "        STFT = np.load(stft_path)\n",
    "        ONSET = np.load(onset_path)\n",
    "        MEL = np.load(mel_path)\n",
    "\n",
    "        # 정규화\n",
    "        CQT = CQT / np.max(CQT)\n",
    "        STFT = STFT / np.max(STFT)\n",
    "        MEL = MEL / np.max(MEL)\n",
    "\n",
    "        model.reset_states()  # 한 곡마다 모델 상태 초기화\n",
    "        for cqt, stft, mel, onset in zip(CQT, STFT, MEL, ONSET):\n",
    "            yield ({'cqt_input': cqt, 'stft_input': stft, 'mel_input': mel}, onset)  # 한 세그먼트씩 반환\n",
    "\n",
    "def build_model():\n",
    "    cqt_input = Input(batch_input_shape=(10, 100, 264), name='cqt_input')\n",
    "    stft_input = Input(batch_input_shape=(10, 100, 257), name='stft_input')\n",
    "    mel_input = Input(batch_input_shape=(10, 100, 128), name='mel_input')\n",
    "\n",
    "    cqt_lstm = Bidirectional(LSTM(128, activation='tanh', return_sequences=True, stateful=True))(cqt_input)\n",
    "    stft_lstm = Bidirectional(LSTM(128, activation='tanh', return_sequences=True, stateful=True))(stft_input)\n",
    "    mel_lstm = Bidirectional(LSTM(128, activation='tanh', return_sequences=True, stateful=True))(mel_input)\n",
    "\n",
    "    concatenated = Concatenate()([cqt_lstm, stft_lstm, mel_lstm])\n",
    "\n",
    "    onset_out = TimeDistributed(Dense(88, activation='sigmoid', kernel_initializer='he_normal', name='onset_output'))(concatenated)\n",
    "    model = Model(inputs=[cqt_input, stft_input, mel_input], outputs=onset_out)\n",
    "\n",
    "    return model\n",
    "\n",
    "def train(train_cqt, train_stft, train_mel, train_onset, valid_cqt, valid_stft, valid_mel, valid_onset):\n",
    "    train_cqt_paths, train_stft_paths, train_mel_paths, train_onset_paths = [], [], [], []\n",
    "    valid_cqt_paths, valid_stft_paths, valid_mel_paths, valid_onset_paths = [], [], [], []\n",
    "\n",
    "    for cqt_path, stft_path, mel_path, onset_path in zip(glob.glob(train_cqt), glob.glob(train_stft), glob.glob(train_mel), glob.glob(train_onset)):\n",
    "        train_cqt_paths.append(cqt_path)\n",
    "        train_stft_paths.append(stft_path)\n",
    "        train_mel_paths.append(mel_path)\n",
    "        train_onset_paths.append(onset_path)\n",
    "\n",
    "    for cqt_path, stft_path, mel_path, onset_path in zip(glob.glob(valid_cqt), glob.glob(valid_stft), glob.glob(valid_mel), glob.glob(valid_onset)):\n",
    "        valid_cqt_paths.append(cqt_path)\n",
    "        valid_stft_paths.append(stft_path)\n",
    "        valid_mel_paths.append(mel_path)\n",
    "        valid_onset_paths.append(onset_path)\n",
    "\n",
    "    output_signature = (\n",
    "        {\n",
    "            'cqt_input': tf.TensorSpec(shape=(100, 264), dtype=tf.float32),\n",
    "            'stft_input': tf.TensorSpec(shape=(100, 257), dtype=tf.float32),\n",
    "            'mel_input': tf.TensorSpec(shape=(100, 128), dtype=tf.float32)\n",
    "        },\n",
    "        tf.TensorSpec(shape=(100, 88), dtype=tf.int8)\n",
    "    )\n",
    "\n",
    "    model = build_model()\n",
    "\n",
    "    train_set = tf.data.Dataset.from_generator(lambda: data_generator(train_cqt_paths, train_stft_paths, train_mel_paths, train_onset_paths, model), output_signature=output_signature)\n",
    "    valid_set = tf.data.Dataset.from_generator(lambda: data_generator(valid_cqt_paths, valid_stft_paths, valid_mel_paths, valid_onset_paths, model), output_signature=output_signature)\n",
    "    train_set = train_set.batch(10, drop_remainder=True).prefetch(tf.data.experimental.AUTOTUNE)\n",
    "    valid_set = valid_set.batch(10, drop_remainder=True).prefetch(tf.data.experimental.AUTOTUNE)\n",
    "\n",
    "    checkpoint = ModelCheckpoint('models/onset_detector_v3.h5', monitor='val_loss', verbose=1, save_best_only=True, mode='auto')\n",
    "    early_stop = EarlyStopping(patience=5, monitor='val_loss', verbose=1, mode='auto')\n",
    "\n",
    "    optimizer = Adam(learning_rate=0.0005)\n",
    "    model.compile(loss='binary_crossentropy', optimizer=optimizer, metrics=['accuracy'])\n",
    "    model.fit(train_set, validation_data=valid_set, epochs=2, shuffle=False, callbacks=[checkpoint, early_stop])\n",
    "    model.save('models/onset_last_v3.h5')\n",
    "\n",
    "if __name__ == '__main__':\n",
    "    train(\n",
    "        'data/preprocessed/trainX/cqt/*.npy',\n",
    "        'data/preprocessed/trainX/stft/*.npy',\n",
    "        'data/preprocessed/trainX/mel/*.npy',\n",
    "        'data/preprocessed/trainONSET/*.npy',\n",
    "        'data/preprocessed/validX/cqt/*.npy',\n",
    "        'data/preprocessed/validX/stft/*.npy',\n",
    "        'data/preprocessed/validX/mel/*.npy',\n",
    "        'data/preprocessed/validONSET/*.npy'\n",
    "    )\n"
   ]
  },
  {
   "cell_type": "markdown",
   "metadata": {},
   "source": [
    "# Offset 모델 학습"
   ]
  },
  {
   "cell_type": "code",
   "execution_count": 2,
   "metadata": {},
   "outputs": [
    {
     "name": "stdout",
     "output_type": "stream",
     "text": [
      "Epoch 1/2\n",
      "   3863/Unknown - 204s 51ms/step - loss: 0.0890 - accuracy: 0.0698"
     ]
    },
    {
     "name": "stderr",
     "output_type": "stream",
     "text": [
      "2024-07-21 20:36:52.714976: I tensorflow/core/framework/local_rendezvous.cc:421] Local rendezvous recv item cancelled. Key hash: 9484677319696533553\n",
      "2024-07-21 20:36:52.715341: I tensorflow/core/framework/local_rendezvous.cc:421] Local rendezvous recv item cancelled. Key hash: 6033464521086850681\n",
      "2024-07-21 20:36:52.715358: I tensorflow/core/framework/local_rendezvous.cc:421] Local rendezvous recv item cancelled. Key hash: 11907714962150989906\n",
      "2024-07-21 20:36:52.715386: I tensorflow/core/framework/local_rendezvous.cc:421] Local rendezvous recv item cancelled. Key hash: 3254887046962549324\n"
     ]
    },
    {
     "name": "stdout",
     "output_type": "stream",
     "text": [
      "\n",
      "Epoch 1: val_loss improved from inf to 0.07862, saving model to models/offset_detector_v3.h5\n",
      "3864/3864 [==============================] - 210s 53ms/step - loss: 0.0890 - accuracy: 0.0698 - val_loss: 0.0786 - val_accuracy: 0.1237\n",
      "Epoch 2/2\n",
      "3863/3864 [============================>.] - ETA: 0s - loss: 0.0687 - accuracy: 0.1493\n",
      "Epoch 2: val_loss improved from 0.07862 to 0.06753, saving model to models/offset_detector_v3.h5\n",
      "3864/3864 [==============================] - 204s 53ms/step - loss: 0.0687 - accuracy: 0.1493 - val_loss: 0.0675 - val_accuracy: 0.1790\n"
     ]
    }
   ],
   "source": [
    "import glob\n",
    "import numpy as np\n",
    "import tensorflow as tf\n",
    "from tensorflow.keras import Model, Input\n",
    "from tensorflow.keras.layers import Dense, Bidirectional, LSTM, TimeDistributed, Concatenate\n",
    "from tensorflow.keras.callbacks import ModelCheckpoint, EarlyStopping\n",
    "from tensorflow.keras.optimizers import Adam\n",
    "from tensorflow.keras.mixed_precision import Policy, set_global_policy\n",
    "\n",
    "# 혼합 정밀도 정책 설정\n",
    "policy = Policy('mixed_float16')\n",
    "set_global_policy(policy)\n",
    "\n",
    "def data_generator(cqt_paths, stft_paths, mel_paths, offset_paths, model):\n",
    "    for cqt_path, stft_path, mel_path, offset_path in zip(cqt_paths, stft_paths, mel_paths, offset_paths):\n",
    "        CQT = np.load(cqt_path)\n",
    "        STFT = np.load(stft_path)\n",
    "        OFFSET = np.load(offset_path)\n",
    "        MEL = np.load(mel_path)\n",
    "\n",
    "        # 정규화\n",
    "        CQT = CQT / np.max(CQT)\n",
    "        STFT = STFT / np.max(STFT)\n",
    "        MEL = MEL / np.max(MEL)\n",
    "\n",
    "        model.reset_states()  # 한 곡마다 모델 상태 초기화\n",
    "        for cqt, stft, mel, offset in zip(CQT, STFT, MEL, OFFSET):\n",
    "            yield ({'cqt_input': cqt, 'stft_input': stft, 'mel_input': mel}, offset)  # 한 세그먼트씩 반환\n",
    "\n",
    "def build_model():\n",
    "    cqt_input = Input(batch_input_shape=(10, 100, 264), name='cqt_input')\n",
    "    stft_input = Input(batch_input_shape=(10, 100, 257), name='stft_input')\n",
    "    mel_input = Input(batch_input_shape=(10, 100, 128), name='mel_input')\n",
    "\n",
    "    cqt_lstm = Bidirectional(LSTM(128, activation='tanh', return_sequences=True, stateful=True))(cqt_input)\n",
    "    stft_lstm = Bidirectional(LSTM(128, activation='tanh', return_sequences=True, stateful=True))(stft_input)\n",
    "    mel_lstm = Bidirectional(LSTM(128, activation='tanh', return_sequences=True, stateful=True))(mel_input)\n",
    "\n",
    "    concatenated = Concatenate()([cqt_lstm, stft_lstm, mel_lstm])\n",
    "\n",
    "    offset_out = TimeDistributed(Dense(88, activation='sigmoid', kernel_initializer='he_normal', name='offset_output'))(concatenated)\n",
    "    model = Model(inputs=[cqt_input, stft_input, mel_input], outputs=offset_out)\n",
    "\n",
    "    return model\n",
    "\n",
    "def train(train_cqt, train_stft, train_mel, train_offset, valid_cqt, valid_stft, valid_mel, valid_offset):\n",
    "    train_cqt_paths, train_stft_paths, train_mel_paths, train_offset_paths = [], [], [], []\n",
    "    valid_cqt_paths, valid_stft_paths, valid_mel_paths, valid_offset_paths = [], [], [], []\n",
    "\n",
    "    for cqt_path, stft_path, mel_path, offset_path in zip(glob.glob(train_cqt), glob.glob(train_stft), glob.glob(train_mel), glob.glob(train_offset)):\n",
    "        train_cqt_paths.append(cqt_path)\n",
    "        train_stft_paths.append(stft_path)\n",
    "        train_mel_paths.append(mel_path)\n",
    "        train_offset_paths.append(offset_path)\n",
    "\n",
    "    for cqt_path, stft_path, mel_path, offset_path in zip(glob.glob(valid_cqt), glob.glob(valid_stft), glob.glob(valid_mel), glob.glob(valid_offset)):\n",
    "        valid_cqt_paths.append(cqt_path)\n",
    "        valid_stft_paths.append(stft_path)\n",
    "        valid_mel_paths.append(mel_path)\n",
    "        valid_offset_paths.append(offset_path)\n",
    "\n",
    "    output_signature = (\n",
    "        {\n",
    "            'cqt_input': tf.TensorSpec(shape=(100, 264), dtype=tf.float32),\n",
    "            'stft_input': tf.TensorSpec(shape=(100, 257), dtype=tf.float32),\n",
    "            'mel_input': tf.TensorSpec(shape=(100, 128), dtype=tf.float32)\n",
    "        },\n",
    "        tf.TensorSpec(shape=(100, 88), dtype=tf.int8)\n",
    "    )\n",
    "\n",
    "    model = build_model()\n",
    "\n",
    "    train_set = tf.data.Dataset.from_generator(lambda: data_generator(train_cqt_paths, train_stft_paths, train_mel_paths, train_offset_paths, model), output_signature=output_signature)\n",
    "    valid_set = tf.data.Dataset.from_generator(lambda: data_generator(valid_cqt_paths, valid_stft_paths, valid_mel_paths, valid_offset_paths, model), output_signature=output_signature)\n",
    "    train_set = train_set.batch(10, drop_remainder=True).prefetch(tf.data.experimental.AUTOTUNE)\n",
    "    valid_set = valid_set.batch(10, drop_remainder=True).prefetch(tf.data.experimental.AUTOTUNE)\n",
    "\n",
    "    checkpoint = ModelCheckpoint('models/offset_detector_v3.h5', monitor='val_loss', verbose=1, save_best_only=True, mode='auto')\n",
    "    early_stop = EarlyStopping(patience=5, monitor='val_loss', verbose=1, mode='auto')\n",
    "\n",
    "    optimizer = Adam(learning_rate=0.0005)\n",
    "    model.compile(loss='binary_crossentropy', optimizer=optimizer, metrics=['accuracy'])\n",
    "    model.fit(train_set, validation_data=valid_set, epochs=2, shuffle=False, callbacks=[checkpoint, early_stop])\n",
    "    model.save('models/offset_last_v3.h5')\n",
    "\n",
    "if __name__ == '__main__':\n",
    "    train(\n",
    "        'data/preprocessed/trainX/cqt/*.npy',\n",
    "        'data/preprocessed/trainX/stft/*.npy',\n",
    "        'data/preprocessed/trainX/mel/*.npy',\n",
    "        'data/preprocessed/trainOFFSET/*.npy',\n",
    "        'data/preprocessed/validX/cqt/*.npy',\n",
    "        'data/preprocessed/validX/stft/*.npy',\n",
    "        'data/preprocessed/validX/mel/*.npy',\n",
    "        'data/preprocessed/validOFFSET/*.npy'\n",
    "    )\n"
   ]
  }
 ],
 "metadata": {
  "kernelspec": {
   "display_name": ".venv",
   "language": "python",
   "name": "python3"
  },
  "language_info": {
   "codemirror_mode": {
    "name": "ipython",
    "version": 3
   },
   "file_extension": ".py",
   "mimetype": "text/x-python",
   "name": "python",
   "nbconvert_exporter": "python",
   "pygments_lexer": "ipython3",
   "version": "3.10.12"
  }
 },
 "nbformat": 4,
 "nbformat_minor": 2
}
