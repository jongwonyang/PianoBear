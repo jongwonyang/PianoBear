{
 "cells": [
  {
   "cell_type": "code",
   "execution_count": 4,
   "metadata": {},
   "outputs": [
    {
     "name": "stdout",
     "output_type": "stream",
     "text": [
      "테스트용 데이터셋 생성 완료.\n"
     ]
    }
   ],
   "source": [
    "import pandas as pd\n",
    "import os\n",
    "import shutil\n",
    "\n",
    "# 원본 데이터셋 메타데이터 로드\n",
    "metadata_path = 'data/maestro-v3.0.0/maestro-v3.0.0.csv'\n",
    "metadata = pd.read_csv(metadata_path)\n",
    "\n",
    "# 테스트용 데이터셋 크기 설정 (예: 100개의 파일만 선택)\n",
    "num_samples = 100\n",
    "\n",
    "# 데이터셋 종류의 비율 유지\n",
    "train_metadata = metadata[metadata['split'] == 'train']\n",
    "validation_metadata = metadata[metadata['split'] == 'validation']\n",
    "test_metadata = metadata[metadata['split'] == 'test']\n",
    "\n",
    "# 비율 계산\n",
    "total_train = len(train_metadata)\n",
    "total_validation = len(validation_metadata)\n",
    "total_test = len(test_metadata)\n",
    "\n",
    "train_ratio = total_train / len(metadata)\n",
    "validation_ratio = total_validation / len(metadata)\n",
    "test_ratio = total_test / len(metadata)\n",
    "\n",
    "# 샘플 수 설정\n",
    "num_train_samples = int(num_samples * train_ratio)\n",
    "num_validation_samples = int(num_samples * validation_ratio)\n",
    "num_test_samples = int(num_samples * test_ratio)\n",
    "\n",
    "# 샘플링\n",
    "sampled_train_metadata = train_metadata.sample(n=num_train_samples, random_state=1)\n",
    "sampled_validation_metadata = validation_metadata.sample(n=num_validation_samples, random_state=1)\n",
    "sampled_test_metadata = test_metadata.sample(n=num_test_samples, random_state=1)\n",
    "\n",
    "# 테스트용 메타데이터 구성\n",
    "sampled_metadata = pd.concat([sampled_train_metadata, sampled_validation_metadata, sampled_test_metadata])\n",
    "\n",
    "# 출력 경로 설정\n",
    "output_dir = 'data/sampled_data'\n",
    "os.makedirs(output_dir, exist_ok=True)\n",
    "\n",
    "# 필요한 폴더 생성\n",
    "for year in sampled_metadata['year'].unique():\n",
    "    os.makedirs(os.path.join(output_dir, str(year)), exist_ok=True)\n",
    "\n",
    "# 파일 복사 및 새로운 메타데이터 저장\n",
    "new_metadata = []\n",
    "for _, row in sampled_metadata.iterrows():\n",
    "    midi_src = os.path.join('data/maestro-v3.0.0', row['midi_filename'])\n",
    "    audio_src = os.path.join('data/maestro-v3.0.0', row['audio_filename'])\n",
    "    midi_dst = os.path.join(output_dir, row['midi_filename'])\n",
    "    audio_dst = os.path.join(output_dir, row['audio_filename'])\n",
    "    \n",
    "    os.makedirs(os.path.dirname(midi_dst), exist_ok=True)\n",
    "    os.makedirs(os.path.dirname(audio_dst), exist_ok=True)\n",
    "    \n",
    "    shutil.copy(midi_src, midi_dst)\n",
    "    shutil.copy(audio_src, audio_dst)\n",
    "    \n",
    "    new_metadata.append(row)\n",
    "\n",
    "# 새로운 메타데이터 저장\n",
    "new_metadata_df = pd.DataFrame(new_metadata)\n",
    "new_metadata_df.to_csv(os.path.join(output_dir, 'maestro-v3.0.0.csv'), index=False)\n",
    "\n",
    "print(\"테스트용 데이터셋 생성 완료.\")\n"
   ]
  }
 ],
 "metadata": {
  "kernelspec": {
   "display_name": "venv",
   "language": "python",
   "name": "python3"
  },
  "language_info": {
   "codemirror_mode": {
    "name": "ipython",
    "version": 3
   },
   "file_extension": ".py",
   "mimetype": "text/x-python",
   "name": "python",
   "nbconvert_exporter": "python",
   "pygments_lexer": "ipython3",
   "version": "3.10.12"
  }
 },
 "nbformat": 4,
 "nbformat_minor": 2
}
