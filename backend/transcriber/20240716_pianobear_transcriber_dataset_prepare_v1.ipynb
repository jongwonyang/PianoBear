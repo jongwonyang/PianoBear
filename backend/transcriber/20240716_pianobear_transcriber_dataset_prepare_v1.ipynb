{
 "cells": [
  {
   "cell_type": "markdown",
   "metadata": {},
   "source": [
    "# Dataset Preparation for PianoBear Transcriber"
   ]
  },
  {
   "cell_type": "code",
   "execution_count": 8,
   "metadata": {},
   "outputs": [],
   "source": [
    "# 데이터 다운로드\n",
    "import requests\n",
    "import os\n",
    "\n",
    "# MAESTRO 데이터셋 다운로드 URL\n",
    "maestro_url = 'https://storage.googleapis.com/magentadata/datasets/maestro/v3.0.0/maestro-v3.0.0.zip'\n",
    "response = requests.get(maestro_url)\n",
    "\n",
    "# 데이터 저장 디렉토리\n",
    "data_dir = 'maestro_data'\n",
    "os.makedirs(data_dir, exist_ok=True)\n",
    "\n",
    "# 데이터 저장\n",
    "with open(os.path.join(data_dir, 'maestro-v3.0.0.zip'), 'wb') as f:\n",
    "    f.write(response.content)"
   ]
  },
  {
   "cell_type": "code",
   "execution_count": 12,
   "metadata": {},
   "outputs": [
    {
     "name": "stdout",
     "output_type": "stream",
     "text": [
      "데이터 다운로드 및 압축 해제 완료\n"
     ]
    }
   ],
   "source": [
    "# ZIP 파일 압축 해제\n",
    "import zipfile\n",
    "\n",
    "with zipfile.ZipFile(os.path.join(data_dir, 'maestro-v3.0.0.zip'), 'r') as zip_ref:\n",
    "    zip_ref.extractall(data_dir)\n",
    "\n",
    "print(\"데이터 다운로드 및 압축 해제 완료\")"
   ]
  }
 ],
 "metadata": {
  "kernelspec": {
   "display_name": "Python 3",
   "language": "python",
   "name": "python3"
  },
  "language_info": {
   "codemirror_mode": {
    "name": "ipython",
    "version": 3
   },
   "file_extension": ".py",
   "mimetype": "text/x-python",
   "name": "python",
   "nbconvert_exporter": "python",
   "pygments_lexer": "ipython3",
   "version": "3.11.9"
  }
 },
 "nbformat": 4,
 "nbformat_minor": 2
}
