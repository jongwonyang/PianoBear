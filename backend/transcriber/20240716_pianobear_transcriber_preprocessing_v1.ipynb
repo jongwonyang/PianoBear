{
 "cells": [
  {
   "cell_type": "markdown",
   "metadata": {},
   "source": [
    "# Preprocessing for PianoBear Transcriber"
   ]
  },
  {
   "cell_type": "code",
   "execution_count": 1,
   "metadata": {},
   "outputs": [
    {
     "name": "stdout",
     "output_type": "stream",
     "text": [
      "Batch from 0 to 49 processed and saved.\n",
      "Batch from 50 to 99 processed and saved.\n",
      "Batch from 100 to 149 processed and saved.\n",
      "Batch from 150 to 199 processed and saved.\n",
      "Batch from 200 to 249 processed and saved.\n",
      "Batch from 250 to 299 processed and saved.\n",
      "Batch from 300 to 349 processed and saved.\n",
      "Batch from 350 to 399 processed and saved.\n",
      "Batch from 400 to 449 processed and saved.\n",
      "Batch from 450 to 499 processed and saved.\n",
      "Batch from 500 to 549 processed and saved.\n",
      "Batch from 550 to 599 processed and saved.\n",
      "Batch from 600 to 649 processed and saved.\n",
      "Batch from 650 to 699 processed and saved.\n",
      "Batch from 700 to 749 processed and saved.\n",
      "Batch from 750 to 799 processed and saved.\n",
      "Batch from 800 to 849 processed and saved.\n",
      "Batch from 850 to 899 processed and saved.\n",
      "Batch from 900 to 949 processed and saved.\n",
      "Batch from 950 to 999 processed and saved.\n",
      "Batch from 1000 to 1049 processed and saved.\n",
      "Batch from 1050 to 1099 processed and saved.\n",
      "Batch from 1100 to 1149 processed and saved.\n",
      "Batch from 1150 to 1199 processed and saved.\n",
      "Batch from 1200 to 1249 processed and saved.\n",
      "Batch from 1250 to 1275 processed and saved.\n"
     ]
    }
   ],
   "source": [
    "import os\n",
    "import mido\n",
    "import librosa\n",
    "import numpy as np\n",
    "import pandas as pd\n",
    "import json\n",
    "\n",
    "# MIDI 데이터 처리 함수\n",
    "def process_midi(file_path):\n",
    "    midi_data = mido.MidiFile(file_path)\n",
    "    notes = []\n",
    "    for i, track in enumerate(midi_data.tracks):\n",
    "        for msg in track:\n",
    "            if msg.type in ['note_on', 'note_off']:\n",
    "                notes.append({\n",
    "                    'note': msg.note,\n",
    "                    'velocity': msg.velocity,\n",
    "                    'time': msg.time,\n",
    "                    'type': msg.type\n",
    "                })\n",
    "    return notes\n",
    "\n",
    "# 오디오 데이터 처리 함수\n",
    "def process_audio(file_path):\n",
    "    y, sr = librosa.load(file_path, sr=16000)\n",
    "    spectrogram = np.abs(librosa.stft(y, n_fft=2048, hop_length=512))\n",
    "    return spectrogram\n",
    "\n",
    "# 메타데이터 로드 및 파일 경로 설정\n",
    "def load_metadata(base_path):\n",
    "    metadata_file = os.path.join(base_path, 'maestro-v3.0.0.json')\n",
    "    with open(metadata_file, 'r') as f:\n",
    "        metadata = json.load(f)\n",
    "    metadata_df = pd.DataFrame(metadata)\n",
    "    metadata_df['midi_path'] = metadata_df['midi_filename'].apply(lambda x: os.path.join(base_path, x))\n",
    "    metadata_df['audio_path'] = metadata_df['audio_filename'].apply(lambda x: os.path.join(base_path, x))\n",
    "    return metadata_df\n",
    "\n",
    "# 배치 데이터 처리 및 저장\n",
    "def process_and_save_batch(metadata_df, save_dir, batch_size=10):\n",
    "    total_rows = len(metadata_df)\n",
    "    for start_index in range(0, total_rows, batch_size):\n",
    "        end_index = min(start_index + batch_size, total_rows)\n",
    "        processed_data = []\n",
    "        \n",
    "        batch = metadata_df.iloc[start_index:end_index]\n",
    "        for index, row in batch.iterrows():\n",
    "            midi_notes = process_midi(row['midi_path'])\n",
    "            audio_spectrogram = process_audio(row['audio_path'])\n",
    "            processed_data.append({\n",
    "                'midi_notes': midi_notes,\n",
    "                'audio_spectrogram': audio_spectrogram\n",
    "            })\n",
    "\n",
    "        # 데이터 저장\n",
    "        batch_file_name = f'processed_maestro_data_{start_index}_{end_index - 1}.npy'\n",
    "        np.save(os.path.join(save_dir, batch_file_name), processed_data)\n",
    "        print(f'Batch from {start_index} to {end_index - 1} processed and saved.')\n",
    "\n",
    "# 실행 코드\n",
    "base_path = 'maestro_data/maestro-v3.0.0'\n",
    "metadata_df = load_metadata(base_path)\n",
    "save_dir = 'maestro_data'\n",
    "os.makedirs(save_dir, exist_ok=True)\n",
    "process_and_save_batch(metadata_df, save_dir, batch_size=50)  # 배치 크기 설정\n"
   ]
  }
 ],
 "metadata": {
  "kernelspec": {
   "display_name": "Python 3",
   "language": "python",
   "name": "python3"
  },
  "language_info": {
   "codemirror_mode": {
    "name": "ipython",
    "version": 3
   },
   "file_extension": ".py",
   "mimetype": "text/x-python",
   "name": "python",
   "nbconvert_exporter": "python",
   "pygments_lexer": "ipython3",
   "version": "3.12.4"
  }
 },
 "nbformat": 4,
 "nbformat_minor": 2
}
