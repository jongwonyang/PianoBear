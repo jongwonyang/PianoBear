{
 "cells": [
  {
   "cell_type": "markdown",
   "metadata": {},
   "source": [
    "# Preprocessing for PianoBear Transcriber"
   ]
  },
  {
   "cell_type": "code",
   "execution_count": 1,
   "metadata": {},
   "outputs": [
    {
     "ename": "KeyboardInterrupt",
     "evalue": "",
     "output_type": "error",
     "traceback": [
      "\u001b[1;31m---------------------------------------------------------------------------\u001b[0m",
      "\u001b[1;31mKeyboardInterrupt\u001b[0m                         Traceback (most recent call last)",
      "Cell \u001b[1;32mIn[1], line 46\u001b[0m\n\u001b[0;32m     44\u001b[0m \u001b[38;5;28;01mfor\u001b[39;00m index, row \u001b[38;5;129;01min\u001b[39;00m metadata_df\u001b[38;5;241m.\u001b[39miterrows():\n\u001b[0;32m     45\u001b[0m     midi_notes \u001b[38;5;241m=\u001b[39m process_midi(row[\u001b[38;5;124m'\u001b[39m\u001b[38;5;124mmidi_path\u001b[39m\u001b[38;5;124m'\u001b[39m])\n\u001b[1;32m---> 46\u001b[0m     audio_spectrogram \u001b[38;5;241m=\u001b[39m \u001b[43mprocess_audio\u001b[49m\u001b[43m(\u001b[49m\u001b[43mrow\u001b[49m\u001b[43m[\u001b[49m\u001b[38;5;124;43m'\u001b[39;49m\u001b[38;5;124;43maudio_path\u001b[39;49m\u001b[38;5;124;43m'\u001b[39;49m\u001b[43m]\u001b[49m\u001b[43m)\u001b[49m\n\u001b[0;32m     48\u001b[0m     processed_data\u001b[38;5;241m.\u001b[39mappend({\n\u001b[0;32m     49\u001b[0m         \u001b[38;5;124m'\u001b[39m\u001b[38;5;124mmidi_notes\u001b[39m\u001b[38;5;124m'\u001b[39m: midi_notes,\n\u001b[0;32m     50\u001b[0m         \u001b[38;5;124m'\u001b[39m\u001b[38;5;124maudio_spectrogram\u001b[39m\u001b[38;5;124m'\u001b[39m: audio_spectrogram\n\u001b[0;32m     51\u001b[0m     })\n\u001b[0;32m     53\u001b[0m \u001b[38;5;66;03m# 데이터 저장 디렉토리 확인 및 생성\u001b[39;00m\n",
      "Cell \u001b[1;32mIn[1], line 26\u001b[0m, in \u001b[0;36mprocess_audio\u001b[1;34m(file_path)\u001b[0m\n\u001b[0;32m     24\u001b[0m \u001b[38;5;28;01mdef\u001b[39;00m \u001b[38;5;21mprocess_audio\u001b[39m(file_path):\n\u001b[0;32m     25\u001b[0m     y, sr \u001b[38;5;241m=\u001b[39m librosa\u001b[38;5;241m.\u001b[39mload(file_path)\n\u001b[1;32m---> 26\u001b[0m     spectrogram \u001b[38;5;241m=\u001b[39m np\u001b[38;5;241m.\u001b[39mabs(\u001b[43mlibrosa\u001b[49m\u001b[38;5;241;43m.\u001b[39;49m\u001b[43mstft\u001b[49m\u001b[43m(\u001b[49m\u001b[43my\u001b[49m\u001b[43m)\u001b[49m)\n\u001b[0;32m     27\u001b[0m     \u001b[38;5;28;01mreturn\u001b[39;00m spectrogram\n",
      "File \u001b[1;32mc:\\Users\\Jongwon\\workspace\\ssafy\\S11P12B103\\backend\\transcriber\\.venv\\Lib\\site-packages\\librosa\\core\\spectrum.py:387\u001b[0m, in \u001b[0;36mstft\u001b[1;34m(y, n_fft, hop_length, win_length, window, center, dtype, pad_mode, out)\u001b[0m\n\u001b[0;32m    384\u001b[0m \u001b[38;5;28;01mfor\u001b[39;00m bl_s \u001b[38;5;129;01min\u001b[39;00m \u001b[38;5;28mrange\u001b[39m(\u001b[38;5;241m0\u001b[39m, y_frames\u001b[38;5;241m.\u001b[39mshape[\u001b[38;5;241m-\u001b[39m\u001b[38;5;241m1\u001b[39m], n_columns):\n\u001b[0;32m    385\u001b[0m     bl_t \u001b[38;5;241m=\u001b[39m \u001b[38;5;28mmin\u001b[39m(bl_s \u001b[38;5;241m+\u001b[39m n_columns, y_frames\u001b[38;5;241m.\u001b[39mshape[\u001b[38;5;241m-\u001b[39m\u001b[38;5;241m1\u001b[39m])\n\u001b[1;32m--> 387\u001b[0m     stft_matrix[\u001b[38;5;241m.\u001b[39m\u001b[38;5;241m.\u001b[39m\u001b[38;5;241m.\u001b[39m, bl_s \u001b[38;5;241m+\u001b[39m off_start : bl_t \u001b[38;5;241m+\u001b[39m off_start] \u001b[38;5;241m=\u001b[39m \u001b[43mfft\u001b[49m\u001b[38;5;241;43m.\u001b[39;49m\u001b[43mrfft\u001b[49m\u001b[43m(\u001b[49m\n\u001b[0;32m    388\u001b[0m \u001b[43m        \u001b[49m\u001b[43mfft_window\u001b[49m\u001b[43m \u001b[49m\u001b[38;5;241;43m*\u001b[39;49m\u001b[43m \u001b[49m\u001b[43my_frames\u001b[49m\u001b[43m[\u001b[49m\u001b[38;5;241;43m.\u001b[39;49m\u001b[38;5;241;43m.\u001b[39;49m\u001b[38;5;241;43m.\u001b[39;49m\u001b[43m,\u001b[49m\u001b[43m \u001b[49m\u001b[43mbl_s\u001b[49m\u001b[43m:\u001b[49m\u001b[43mbl_t\u001b[49m\u001b[43m]\u001b[49m\u001b[43m,\u001b[49m\u001b[43m \u001b[49m\u001b[43maxis\u001b[49m\u001b[38;5;241;43m=\u001b[39;49m\u001b[38;5;241;43m-\u001b[39;49m\u001b[38;5;241;43m2\u001b[39;49m\n\u001b[0;32m    389\u001b[0m \u001b[43m    \u001b[49m\u001b[43m)\u001b[49m\n\u001b[0;32m    390\u001b[0m \u001b[38;5;28;01mreturn\u001b[39;00m stft_matrix\n",
      "File \u001b[1;32mc:\\Users\\Jongwon\\workspace\\ssafy\\S11P12B103\\backend\\transcriber\\.venv\\Lib\\site-packages\\numpy\\fft\\_pocketfft.py:118\u001b[0m, in \u001b[0;36m_fft_dispatcher\u001b[1;34m(a, n, axis, norm)\u001b[0m\n\u001b[0;32m    113\u001b[0m     \u001b[38;5;28;01mexcept\u001b[39;00m \u001b[38;5;167;01mKeyError\u001b[39;00m:\n\u001b[0;32m    114\u001b[0m         \u001b[38;5;28;01mraise\u001b[39;00m \u001b[38;5;167;01mValueError\u001b[39;00m(\u001b[38;5;124mf\u001b[39m\u001b[38;5;124m'\u001b[39m\u001b[38;5;124mInvalid norm value \u001b[39m\u001b[38;5;132;01m{\u001b[39;00mnorm\u001b[38;5;132;01m}\u001b[39;00m\u001b[38;5;124m; should be \u001b[39m\u001b[38;5;124m\"\u001b[39m\u001b[38;5;124mbackward\u001b[39m\u001b[38;5;124m\"\u001b[39m\u001b[38;5;124m, \u001b[39m\u001b[38;5;124m'\u001b[39m\n\u001b[0;32m    115\u001b[0m                          \u001b[38;5;124m'\u001b[39m\u001b[38;5;124m\"\u001b[39m\u001b[38;5;124mortho\u001b[39m\u001b[38;5;124m\"\u001b[39m\u001b[38;5;124m or \u001b[39m\u001b[38;5;124m\"\u001b[39m\u001b[38;5;124mforward\u001b[39m\u001b[38;5;124m\"\u001b[39m\u001b[38;5;124m.\u001b[39m\u001b[38;5;124m'\u001b[39m) \u001b[38;5;28;01mfrom\u001b[39;00m \u001b[38;5;28;01mNone\u001b[39;00m\n\u001b[1;32m--> 118\u001b[0m \u001b[38;5;28;01mdef\u001b[39;00m \u001b[38;5;21m_fft_dispatcher\u001b[39m(a, n\u001b[38;5;241m=\u001b[39m\u001b[38;5;28;01mNone\u001b[39;00m, axis\u001b[38;5;241m=\u001b[39m\u001b[38;5;28;01mNone\u001b[39;00m, norm\u001b[38;5;241m=\u001b[39m\u001b[38;5;28;01mNone\u001b[39;00m):\n\u001b[0;32m    119\u001b[0m     \u001b[38;5;28;01mreturn\u001b[39;00m (a,)\n\u001b[0;32m    122\u001b[0m \u001b[38;5;129m@array_function_dispatch\u001b[39m(_fft_dispatcher)\n\u001b[0;32m    123\u001b[0m \u001b[38;5;28;01mdef\u001b[39;00m \u001b[38;5;21mfft\u001b[39m(a, n\u001b[38;5;241m=\u001b[39m\u001b[38;5;28;01mNone\u001b[39;00m, axis\u001b[38;5;241m=\u001b[39m\u001b[38;5;241m-\u001b[39m\u001b[38;5;241m1\u001b[39m, norm\u001b[38;5;241m=\u001b[39m\u001b[38;5;28;01mNone\u001b[39;00m):\n",
      "\u001b[1;31mKeyboardInterrupt\u001b[0m: "
     ]
    }
   ],
   "source": [
    "import os\n",
    "import mido\n",
    "import librosa\n",
    "import numpy as np\n",
    "import pandas as pd\n",
    "import json\n",
    "\n",
    "# MIDI 데이터 처리 함수\n",
    "def process_midi(file_path):\n",
    "    midi_data = mido.MidiFile(file_path)\n",
    "    notes = []\n",
    "    for i, track in enumerate(midi_data.tracks):\n",
    "        for msg in track:\n",
    "            if msg.type in ['note_on', 'note_off']:\n",
    "                notes.append({\n",
    "                    'note': msg.note,\n",
    "                    'velocity': msg.velocity,\n",
    "                    'time': msg.time,\n",
    "                    'type': msg.type\n",
    "                })\n",
    "    return notes\n",
    "\n",
    "# 오디오 데이터 처리 함수\n",
    "def process_audio(file_path):\n",
    "    y, sr = librosa.load(file_path, sr=None)  # 원본 샘플 레이트 사용\n",
    "    spectrogram = np.abs(librosa.stft(y))\n",
    "    return spectrogram\n",
    "\n",
    "# 메타데이터 로드 및 파일 경로 설정\n",
    "def load_metadata(base_path):\n",
    "    metadata_file = os.path.join(base_path, 'maestro-v3.0.0.json')\n",
    "    with open(metadata_file, 'r') as f:\n",
    "        metadata = json.load(f)\n",
    "    metadata_df = pd.DataFrame(metadata)\n",
    "    metadata_df['midi_path'] = metadata_df['midi_filename'].apply(lambda x: os.path.join(base_path, x))\n",
    "    metadata_df['audio_path'] = metadata_df['audio_filename'].apply(lambda x: os.path.join(base_path, x))\n",
    "    return metadata_df\n",
    "\n",
    "# 배치 데이터 처리 및 저장\n",
    "def process_and_save_batch(metadata_df, save_dir, batch_size=10):\n",
    "    total_rows = len(metadata_df)\n",
    "    for start_index in range(0, total_rows, batch_size):\n",
    "        end_index = min(start_index + batch_size, total_rows)\n",
    "        processed_data = []\n",
    "        \n",
    "        batch = metadata_df.iloc[start_index:end_index]\n",
    "        for index, row in batch.iterrows():\n",
    "            midi_notes = process_midi(row['midi_path'])\n",
    "            audio_spectrogram = process_audio(row['audio_path'])\n",
    "            processed_data.append({\n",
    "                'midi_notes': midi_notes,\n",
    "                'audio_spectrogram': audio_spectrogram\n",
    "            })\n",
    "\n",
    "        # 데이터 저장\n",
    "        batch_file_name = f'processed_maestro_data_{start_index}_{end_index - 1}.npy'\n",
    "        np.save(os.path.join(save_dir, batch_file_name), processed_data)\n",
    "        print(f'Batch from {start_index} to {end_index - 1} processed and saved.')\n",
    "\n",
    "# 실행 코드\n",
    "base_path = 'maestro_data/maestro-v3.0.0'\n",
    "metadata_df = load_metadata(base_path)\n",
    "save_dir = 'maestro_data'\n",
    "os.makedirs(save_dir, exist_ok=True)\n",
    "process_and_save_batch(metadata_df, save_dir, batch_size=50)  # 배치 크기 설정\n"
   ]
  }
 ],
 "metadata": {
  "kernelspec": {
   "display_name": "Python 3",
   "language": "python",
   "name": "python3"
  },
  "language_info": {
   "codemirror_mode": {
    "name": "ipython",
    "version": 3
   },
   "file_extension": ".py",
   "mimetype": "text/x-python",
   "name": "python",
   "nbconvert_exporter": "python",
   "pygments_lexer": "ipython3",
   "version": "3.12.4"
  }
 },
 "nbformat": 4,
 "nbformat_minor": 2
}
