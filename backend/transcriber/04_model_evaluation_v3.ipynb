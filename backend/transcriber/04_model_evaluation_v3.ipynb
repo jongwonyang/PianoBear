{
 "cells": [
  {
   "cell_type": "code",
   "execution_count": 1,
   "metadata": {},
   "outputs": [],
   "source": [
    "import warnings\n",
    "warnings.filterwarnings('ignore')"
   ]
  },
  {
   "cell_type": "markdown",
   "metadata": {},
   "source": [
    "# Onset 모델 평가"
   ]
  },
  {
   "cell_type": "code",
   "execution_count": 2,
   "metadata": {},
   "outputs": [
    {
     "name": "stderr",
     "output_type": "stream",
     "text": [
      "2024-07-21 20:43:31.096345: I tensorflow/core/util/port.cc:111] oneDNN custom operations are on. You may see slightly different numerical results due to floating-point round-off errors from different computation orders. To turn them off, set the environment variable `TF_ENABLE_ONEDNN_OPTS=0`.\n",
      "2024-07-21 20:43:31.275296: E tensorflow/compiler/xla/stream_executor/cuda/cuda_dnn.cc:9342] Unable to register cuDNN factory: Attempting to register factory for plugin cuDNN when one has already been registered\n",
      "2024-07-21 20:43:31.275321: E tensorflow/compiler/xla/stream_executor/cuda/cuda_fft.cc:609] Unable to register cuFFT factory: Attempting to register factory for plugin cuFFT when one has already been registered\n",
      "2024-07-21 20:43:31.275776: E tensorflow/compiler/xla/stream_executor/cuda/cuda_blas.cc:1518] Unable to register cuBLAS factory: Attempting to register factory for plugin cuBLAS when one has already been registered\n",
      "2024-07-21 20:43:31.342530: I tensorflow/core/platform/cpu_feature_guard.cc:182] This TensorFlow binary is optimized to use available CPU instructions in performance-critical operations.\n",
      "To enable the following instructions: AVX2 AVX_VNNI FMA, in other operations, rebuild TensorFlow with the appropriate compiler flags.\n"
     ]
    },
    {
     "name": "stdout",
     "output_type": "stream",
     "text": [
      "INFO:tensorflow:Mixed precision compatibility check (mixed_float16): OK\n",
      "Your GPU will likely run quickly with dtype policy mixed_float16 as it has compute capability of at least 7.0. Your GPU: NVIDIA GeForce GTX 1660 SUPER, compute capability 7.5\n"
     ]
    },
    {
     "name": "stderr",
     "output_type": "stream",
     "text": [
      "2024-07-21 20:43:33.869938: I tensorflow/compiler/xla/stream_executor/cuda/cuda_gpu_executor.cc:880] could not open file to read NUMA node: /sys/bus/pci/devices/0000:01:00.0/numa_node\n",
      "Your kernel may have been built without NUMA support.\n",
      "2024-07-21 20:43:33.885982: I tensorflow/compiler/xla/stream_executor/cuda/cuda_gpu_executor.cc:880] could not open file to read NUMA node: /sys/bus/pci/devices/0000:01:00.0/numa_node\n",
      "Your kernel may have been built without NUMA support.\n",
      "2024-07-21 20:43:33.886027: I tensorflow/compiler/xla/stream_executor/cuda/cuda_gpu_executor.cc:880] could not open file to read NUMA node: /sys/bus/pci/devices/0000:01:00.0/numa_node\n",
      "Your kernel may have been built without NUMA support.\n",
      "2024-07-21 20:43:33.886342: I tensorflow/compiler/xla/stream_executor/cuda/cuda_gpu_executor.cc:880] could not open file to read NUMA node: /sys/bus/pci/devices/0000:01:00.0/numa_node\n",
      "Your kernel may have been built without NUMA support.\n",
      "2024-07-21 20:43:33.891682: I tensorflow/compiler/xla/stream_executor/cuda/cuda_gpu_executor.cc:880] could not open file to read NUMA node: /sys/bus/pci/devices/0000:01:00.0/numa_node\n",
      "Your kernel may have been built without NUMA support.\n",
      "2024-07-21 20:43:33.891737: I tensorflow/compiler/xla/stream_executor/cuda/cuda_gpu_executor.cc:880] could not open file to read NUMA node: /sys/bus/pci/devices/0000:01:00.0/numa_node\n",
      "Your kernel may have been built without NUMA support.\n",
      "2024-07-21 20:43:33.891755: I tensorflow/compiler/xla/stream_executor/cuda/cuda_gpu_executor.cc:880] could not open file to read NUMA node: /sys/bus/pci/devices/0000:01:00.0/numa_node\n",
      "Your kernel may have been built without NUMA support.\n",
      "2024-07-21 20:43:34.843763: I tensorflow/compiler/xla/stream_executor/cuda/cuda_gpu_executor.cc:880] could not open file to read NUMA node: /sys/bus/pci/devices/0000:01:00.0/numa_node\n",
      "Your kernel may have been built without NUMA support.\n",
      "2024-07-21 20:43:34.843801: I tensorflow/compiler/xla/stream_executor/cuda/cuda_gpu_executor.cc:880] could not open file to read NUMA node: /sys/bus/pci/devices/0000:01:00.0/numa_node\n",
      "Your kernel may have been built without NUMA support.\n",
      "2024-07-21 20:43:34.843806: I tensorflow/core/common_runtime/gpu/gpu_device.cc:1977] Could not identify NUMA node of platform GPU id 0, defaulting to 0.  Your kernel may not have been built with NUMA support.\n",
      "2024-07-21 20:43:34.843825: I tensorflow/compiler/xla/stream_executor/cuda/cuda_gpu_executor.cc:880] could not open file to read NUMA node: /sys/bus/pci/devices/0000:01:00.0/numa_node\n",
      "Your kernel may have been built without NUMA support.\n",
      "2024-07-21 20:43:34.843843: I tensorflow/core/common_runtime/gpu/gpu_device.cc:1886] Created device /job:localhost/replica:0/task:0/device:GPU:0 with 3914 MB memory:  -> device: 0, name: NVIDIA GeForce GTX 1660 SUPER, pci bus id: 0000:01:00.0, compute capability: 7.5\n",
      "2024-07-21 20:43:35.172919: I tensorflow/tsl/platform/default/subprocess.cc:304] Start cannot spawn child process: No such file or directory\n"
     ]
    },
    {
     "name": "stdout",
     "output_type": "stream",
     "text": [
      "WARNING:tensorflow:Error in loading the saved optimizer state. As a result, your model is starting with a freshly initialized optimizer.\n"
     ]
    },
    {
     "name": "stderr",
     "output_type": "stream",
     "text": [
      "2024-07-21 20:43:38.165724: I tensorflow/compiler/xla/stream_executor/cuda/cuda_dnn.cc:442] Loaded cuDNN version 8700\n"
     ]
    },
    {
     "name": "stdout",
     "output_type": "stream",
     "text": [
      "570/570 - 15s - loss: 0.0184 - accuracy: 0.0712 - 15s/epoch - 26ms/step\n",
      "Test Loss: 0.018394172191619873\n",
      "Test Accuracy: 0.07119999825954437\n"
     ]
    }
   ],
   "source": [
    "import glob\n",
    "import numpy as np\n",
    "import tensorflow as tf\n",
    "from tensorflow.keras.models import load_model\n",
    "\n",
    "def data_generator(cqt_paths, stft_paths, mel_paths, onset_paths, model):\n",
    "    for cqt_path, stft_path, mel_path, onset_path in zip(cqt_paths, stft_paths, mel_paths, onset_paths):\n",
    "        CQT = np.load(cqt_path)\n",
    "        STFT = np.load(stft_path)\n",
    "        MEL = np.load(mel_path)\n",
    "        ONSET = np.load(onset_path)\n",
    "\n",
    "        # 정규화\n",
    "        CQT = CQT / np.max(CQT)\n",
    "        STFT = STFT / np.max(STFT)\n",
    "        MEL = MEL / np.max(MEL)\n",
    "\n",
    "        model.reset_states()  # 한 곡마다 모델 상태 초기화\n",
    "        for cqt, stft, mel, onset in zip(CQT, STFT, MEL, ONSET):\n",
    "            yield ({'cqt_input': cqt, 'stft_input': stft, 'mel_input': mel}, onset)  # 한 세그먼트씩 반환\n",
    "\n",
    "def evaluate(test_cqt, test_stft, test_mel, test_onset):\n",
    "    test_cqt_paths, test_stft_paths, test_mel_paths, test_onset_paths = [], [], [], []\n",
    "\n",
    "    for cqt_path, stft_path, mel_path, onset_path in zip(glob.glob(test_cqt), glob.glob(test_stft), glob.glob(test_mel), glob.glob(test_onset)):\n",
    "        test_cqt_paths.append(cqt_path)\n",
    "        test_stft_paths.append(stft_path)\n",
    "        test_mel_paths.append(mel_path)\n",
    "        test_onset_paths.append(onset_path)\n",
    "\n",
    "    output_signature = (\n",
    "        {\n",
    "            'cqt_input': tf.TensorSpec(shape=(100, 264), dtype=tf.float32),\n",
    "            'stft_input': tf.TensorSpec(shape=(100, 257), dtype=tf.float32),\n",
    "            'mel_input': tf.TensorSpec(shape=(100, 128), dtype=tf.float32)\n",
    "        },\n",
    "        tf.TensorSpec(shape=(100, 88), dtype=tf.int8)\n",
    "    )\n",
    "\n",
    "    batch_size = 10\n",
    "\n",
    "    model = load_model('models/onset_detector_v3.h5')\n",
    "\n",
    "    test_set = tf.data.Dataset.from_generator(lambda: data_generator(test_cqt_paths, test_stft_paths, test_mel_paths, test_onset_paths, model), output_signature=output_signature)\n",
    "    test_set = test_set.batch(batch_size, drop_remainder=True).prefetch(tf.data.experimental.AUTOTUNE)\n",
    "\n",
    "    steps_per_epoch = sum([len(np.load(file)) for file in test_cqt_paths]) // batch_size\n",
    "\n",
    "    loss, accuracy = model.evaluate(test_set, steps=steps_per_epoch, verbose=2)\n",
    "    print(f'Test Loss: {loss}')\n",
    "    print(f'Test Accuracy: {accuracy}')\n",
    "\n",
    "if __name__ == '__main__':\n",
    "    evaluate('data/preprocessed/testX/cqt/*.npy', 'data/preprocessed/testX/stft/*.npy', 'data/preprocessed/testX/mel/*.npy', 'data/preprocessed/testONSET/*.npy')"
   ]
  },
  {
   "cell_type": "markdown",
   "metadata": {},
   "source": [
    "# Offset 모델 평가"
   ]
  },
  {
   "cell_type": "code",
   "execution_count": 3,
   "metadata": {},
   "outputs": [
    {
     "name": "stdout",
     "output_type": "stream",
     "text": [
      "WARNING:tensorflow:Error in loading the saved optimizer state. As a result, your model is starting with a freshly initialized optimizer.\n",
      "570/570 - 15s - loss: 0.0690 - accuracy: 0.1812 - 15s/epoch - 26ms/step\n",
      "Test Loss: 0.06899569183588028\n",
      "Test Accuracy: 0.18116316199302673\n"
     ]
    }
   ],
   "source": [
    "import glob\n",
    "import numpy as np\n",
    "import tensorflow as tf\n",
    "from tensorflow.keras.models import load_model\n",
    "\n",
    "def data_generator(cqt_paths, stft_paths, mel_paths, offset_paths, model):\n",
    "    for cqt_path, stft_path, mel_path, offset_path in zip(cqt_paths, stft_paths, mel_paths, offset_paths):\n",
    "        CQT = np.load(cqt_path)\n",
    "        STFT = np.load(stft_path)\n",
    "        MEL = np.load(mel_path)\n",
    "        OFFSET = np.load(offset_path)\n",
    "\n",
    "        # 정규화\n",
    "        CQT = CQT / np.max(CQT)\n",
    "        STFT = STFT / np.max(STFT)\n",
    "        MEL = MEL / np.max(MEL)\n",
    "\n",
    "        model.reset_states()  # 한 곡마다 모델 상태 초기화\n",
    "        for cqt, stft, mel, offset in zip(CQT, STFT, MEL, OFFSET):\n",
    "            yield ({'cqt_input': cqt, 'stft_input': stft, 'mel_input': mel}, offset)  # 한 세그먼트씩 반환\n",
    "\n",
    "def evaluate(test_cqt, test_stft, test_mel, test_offset):\n",
    "    test_cqt_paths, test_stft_paths, test_mel_paths, test_offset_paths = [], [], [], []\n",
    "\n",
    "    for cqt_path, stft_path, mel_path, offset_path in zip(glob.glob(test_cqt), glob.glob(test_stft), glob.glob(test_mel), glob.glob(test_offset)):\n",
    "        test_cqt_paths.append(cqt_path)\n",
    "        test_stft_paths.append(stft_path)\n",
    "        test_mel_paths.append(mel_path)\n",
    "        test_offset_paths.append(offset_path)\n",
    "\n",
    "    output_signature = (\n",
    "        {\n",
    "            'cqt_input': tf.TensorSpec(shape=(100, 264), dtype=tf.float32),\n",
    "            'stft_input': tf.TensorSpec(shape=(100, 257), dtype=tf.float32),\n",
    "            'mel_input': tf.TensorSpec(shape=(100, 128), dtype=tf.float32)\n",
    "        },\n",
    "        tf.TensorSpec(shape=(100, 88), dtype=tf.int8)\n",
    "    )\n",
    "\n",
    "    batch_size = 10\n",
    "\n",
    "    model = load_model('models/offset_detector_v3.h5')\n",
    "\n",
    "    test_set = tf.data.Dataset.from_generator(lambda: data_generator(test_cqt_paths, test_stft_paths, test_mel_paths, test_offset_paths, model), output_signature=output_signature)\n",
    "    test_set = test_set.batch(batch_size, drop_remainder=True).prefetch(tf.data.experimental.AUTOTUNE)\n",
    "\n",
    "    steps_per_epoch = sum([len(np.load(file)) for file in test_cqt_paths]) // batch_size\n",
    "\n",
    "    loss, accuracy = model.evaluate(test_set, steps=steps_per_epoch, verbose=2)\n",
    "    print(f'Test Loss: {loss}')\n",
    "    print(f'Test Accuracy: {accuracy}')\n",
    "\n",
    "if __name__ == '__main__':\n",
    "    evaluate('data/preprocessed/testX/cqt/*.npy', 'data/preprocessed/testX/stft/*.npy', 'data/preprocessed/testX/mel/*.npy', 'data/preprocessed/testOFFSET/*.npy')"
   ]
  }
 ],
 "metadata": {
  "kernelspec": {
   "display_name": "venv",
   "language": "python",
   "name": "python3"
  },
  "language_info": {
   "codemirror_mode": {
    "name": "ipython",
    "version": 3
   },
   "file_extension": ".py",
   "mimetype": "text/x-python",
   "name": "python",
   "nbconvert_exporter": "python",
   "pygments_lexer": "ipython3",
   "version": "3.10.12"
  }
 },
 "nbformat": 4,
 "nbformat_minor": 2
}
