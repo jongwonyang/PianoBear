{
 "cells": [
  {
   "cell_type": "code",
   "execution_count": 2,
   "metadata": {},
   "outputs": [],
   "source": [
    "import warnings\n",
    "warnings.filterwarnings('ignore')"
   ]
  },
  {
   "cell_type": "markdown",
   "metadata": {},
   "source": [
    "# Onset 모델 평가"
   ]
  },
  {
   "cell_type": "code",
   "execution_count": 7,
   "metadata": {},
   "outputs": [
    {
     "name": "stdout",
     "output_type": "stream",
     "text": [
      "WARNING:tensorflow:Error in loading the saved optimizer state. As a result, your model is starting with a freshly initialized optimizer.\n",
      "570/570 - 9s - loss: 0.0204 - accuracy: 0.0566 - 9s/epoch - 16ms/step\n",
      "Test Loss: 0.020369313657283783\n",
      "Test Accuracy: 0.05661052465438843\n"
     ]
    }
   ],
   "source": [
    "import glob\n",
    "import numpy as np\n",
    "import tensorflow as tf\n",
    "from tensorflow.keras.models import load_model\n",
    "\n",
    "def data_generator(cqt_paths, stft_paths, onset_paths, model):\n",
    "    for cqt_path, stft_path, onset_path in zip(cqt_paths, stft_paths, onset_paths):\n",
    "        CQT = np.load(cqt_path)\n",
    "        STFT = np.load(stft_path)\n",
    "        ONSET = np.load(onset_path)\n",
    "\n",
    "        # 정규화\n",
    "        CQT = CQT / np.max(CQT)\n",
    "        STFT = STFT / np.max(STFT)\n",
    "\n",
    "        model.reset_states()  # 한 곡마다 모델 상태 초기화\n",
    "        for cqt, stft, onset in zip(CQT, STFT, ONSET):\n",
    "            yield ({'cqt_input': cqt, 'stft_input': stft}, onset)  # 한 세그먼트씩 반환\n",
    "\n",
    "def evaluate(test_cqt, test_stft, test_onset):\n",
    "    test_cqt_paths, test_stft_paths, test_onset_paths = [], [], []\n",
    "\n",
    "    for cqt_path, stft_path, onset_path in zip(glob.glob(test_cqt), glob.glob(test_stft), glob.glob(test_onset)):\n",
    "        test_cqt_paths.append(cqt_path)\n",
    "        test_stft_paths.append(stft_path)\n",
    "        test_onset_paths.append(onset_path)\n",
    "\n",
    "    output_signature = (\n",
    "        {\n",
    "            'cqt_input': tf.TensorSpec(shape=(100, 264), dtype=tf.float32),\n",
    "            'stft_input': tf.TensorSpec(shape=(100, 257), dtype=tf.float32)\n",
    "        },\n",
    "        tf.TensorSpec(shape=(100, 88), dtype=tf.int8)\n",
    "    )\n",
    "\n",
    "    batch_size = 10\n",
    "\n",
    "    model = load_model('models/onset_detector_v2.h5')\n",
    "\n",
    "    test_set = tf.data.Dataset.from_generator(lambda: data_generator(test_cqt_paths, test_stft_paths, test_onset_paths, model), output_signature=output_signature)\n",
    "    test_set = test_set.batch(batch_size, drop_remainder=True).prefetch(tf.data.experimental.AUTOTUNE)\n",
    "\n",
    "    steps_per_epoch = sum([len(np.load(file)) for file in test_cqt_paths]) // batch_size\n",
    "\n",
    "    loss, accuracy = model.evaluate(test_set, steps=steps_per_epoch, verbose=2)\n",
    "    print(f'Test Loss: {loss}')\n",
    "    print(f'Test Accuracy: {accuracy}')\n",
    "\n",
    "if __name__ == '__main__':\n",
    "    evaluate('data/preprocessed/testX/cqt/*.npy', 'data/preprocessed/testX/stft/*.npy', 'data/preprocessed/testONSET/*.npy')"
   ]
  },
  {
   "cell_type": "markdown",
   "metadata": {},
   "source": [
    "# Offset 모델 평가"
   ]
  },
  {
   "cell_type": "code",
   "execution_count": 8,
   "metadata": {},
   "outputs": [
    {
     "name": "stdout",
     "output_type": "stream",
     "text": [
      "WARNING:tensorflow:Error in loading the saved optimizer state. As a result, your model is starting with a freshly initialized optimizer.\n",
      "570/570 - 10s - loss: 0.0726 - accuracy: 0.1546 - 10s/epoch - 17ms/step\n",
      "Test Loss: 0.07262832671403885\n",
      "Test Accuracy: 0.1546333283185959\n"
     ]
    }
   ],
   "source": [
    "import glob\n",
    "import numpy as np\n",
    "import tensorflow as tf\n",
    "from tensorflow.keras.models import load_model\n",
    "\n",
    "def data_generator(cqt_paths, stft_paths, offset_paths, model):\n",
    "    for cqt_path, stft_path, offset_path in zip(cqt_paths, stft_paths, offset_paths):\n",
    "        CQT = np.load(cqt_path)\n",
    "        STFT = np.load(stft_path)\n",
    "        OFFSET = np.load(offset_path)\n",
    "\n",
    "        # 정규화\n",
    "        CQT = CQT / np.max(CQT)\n",
    "        STFT = STFT / np.max(STFT)\n",
    "\n",
    "        model.reset_states()  # 한 곡마다 모델 상태 초기화\n",
    "        for cqt, stft, offset in zip(CQT, STFT, OFFSET):\n",
    "            yield ({'cqt_input': cqt, 'stft_input': stft}, offset)  # 한 세그먼트씩 반환\n",
    "\n",
    "def evaluate(test_cqt, test_stft, test_offset):\n",
    "    test_cqt_paths, test_stft_paths, test_offset_paths = [], [], []\n",
    "\n",
    "    for cqt_path, stft_path, offset_path in zip(glob.glob(test_cqt), glob.glob(test_stft), glob.glob(test_offset)):\n",
    "        test_cqt_paths.append(cqt_path)\n",
    "        test_stft_paths.append(stft_path)\n",
    "        test_offset_paths.append(offset_path)\n",
    "\n",
    "    output_signature = (\n",
    "        {\n",
    "            'cqt_input': tf.TensorSpec(shape=(100, 264), dtype=tf.float32),\n",
    "            'stft_input': tf.TensorSpec(shape=(100, 257), dtype=tf.float32)\n",
    "        },\n",
    "        tf.TensorSpec(shape=(100, 88), dtype=tf.int8)\n",
    "    )\n",
    "\n",
    "    batch_size = 10\n",
    "\n",
    "    model = load_model('models/offset_detector_v2.h5')\n",
    "\n",
    "    test_set = tf.data.Dataset.from_generator(lambda: data_generator(test_cqt_paths, test_stft_paths, test_offset_paths, model), output_signature=output_signature)\n",
    "    test_set = test_set.batch(batch_size, drop_remainder=True).prefetch(tf.data.experimental.AUTOTUNE)\n",
    "\n",
    "    steps_per_epoch = sum([len(np.load(file)) for file in test_cqt_paths]) // batch_size\n",
    "\n",
    "    loss, accuracy = model.evaluate(test_set, steps=steps_per_epoch, verbose=2)\n",
    "    print(f'Test Loss: {loss}')\n",
    "    print(f'Test Accuracy: {accuracy}')\n",
    "\n",
    "if __name__ == '__main__':\n",
    "    evaluate('data/preprocessed/testX/cqt/*.npy', 'data/preprocessed/testX/stft/*.npy', 'data/preprocessed/testOFFSET/*.npy')"
   ]
  }
 ],
 "metadata": {
  "kernelspec": {
   "display_name": "venv",
   "language": "python",
   "name": "python3"
  },
  "language_info": {
   "codemirror_mode": {
    "name": "ipython",
    "version": 3
   },
   "file_extension": ".py",
   "mimetype": "text/x-python",
   "name": "python",
   "nbconvert_exporter": "python",
   "pygments_lexer": "ipython3",
   "version": "3.10.12"
  }
 },
 "nbformat": 4,
 "nbformat_minor": 2
}
